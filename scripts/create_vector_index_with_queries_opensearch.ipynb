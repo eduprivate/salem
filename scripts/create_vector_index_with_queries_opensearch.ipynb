{
 "cells": [
  {
   "cell_type": "code",
   "execution_count": null,
   "id": "cb18e5c6",
   "metadata": {},
   "outputs": [],
   "source": [
    "%%sh\n",
    "pip install opensearch-py==2.4.2\n",
    "pip install boto3==1.34.29\n",
    "pip install sentence-transformers==2.2.2"
   ]
  },
  {
   "cell_type": "code",
   "execution_count": null,
   "id": "2e49f43b",
   "metadata": {},
   "outputs": [],
   "source": [
    "import pandas as pd\n",
    "\n",
    "# import pre selected list of known queries already classified\n",
    "#df_top = df_queries[(df_queries['CTR'] > 0.35) & (df_queries['Buscas'] > 1000)]\n",
    "#print(df_top.head(5))\n",
    "\n",
    "file_path = 'queries.csv'\n",
    "columns = ['Termo','Categoria']\n",
    "df_queries = pd.read_csv(file_path, usecols=columns)\n",
    "df_top = df_queries.dropna()\n",
    "print(df_top.head(5))"
   ]
  },
  {
   "cell_type": "code",
   "execution_count": null,
   "id": "6c348fab",
   "metadata": {},
   "outputs": [],
   "source": [
    "from opensearchpy import OpenSearch\n",
    "\n",
    "CLUSTER_URL = 'http://localhost:9200'\n",
    "\n",
    "def get_client(cluster_url = CLUSTER_URL):\n",
    "\n",
    "    client = OpenSearch(\n",
    "        hosts=[cluster_url],\n",
    "        verify_certs=False\n",
    "    )\n",
    "    return client\n",
    "\n",
    "client = get_client()\n"
   ]
  },
  {
   "cell_type": "code",
   "execution_count": null,
   "id": "f2eb0839",
   "metadata": {},
   "outputs": [],
   "source": [
    "from sentence_transformers import SentenceTransformer\n",
    "\n",
    "model_name = \"all-MiniLM-L6-v2\"\n",
    "model = SentenceTransformer(model_name)\n",
    "\n",
    "EMBEDDING_DIM = model.encode([\"Sample sentence\"])[0].shape[0]"
   ]
  },
  {
   "cell_type": "code",
   "execution_count": null,
   "id": "286022a7",
   "metadata": {},
   "outputs": [],
   "source": [
    "print(EMBEDDING_DIM)"
   ]
  },
  {
   "cell_type": "code",
   "execution_count": null,
   "id": "8aedde50",
   "metadata": {},
   "outputs": [],
   "source": [
    "index_name = \"queries\"\n",
    "\n",
    "index_body = {\n",
    "  \"settings\": {\n",
    "    \"index\": {\n",
    "      \"knn\": True,\n",
    "      \"knn.algo_param.ef_search\": 100\n",
    "    }\n",
    "  },\n",
    "  \"mappings\": {\n",
    "    \"properties\": {\n",
    "        \"embedding\": {\n",
    "          \"type\": \"knn_vector\", #we are going to put \n",
    "          \"dimension\": EMBEDDING_DIM,\n",
    "          \"method\": {\n",
    "            \"name\": \"hnsw\",\n",
    "            \"space_type\": \"cosinesimil\",\n",
    "            \"engine\": \"nmslib\",\n",
    "            \"parameters\": {\n",
    "              \"ef_construction\": 128,\n",
    "              \"m\": 24\n",
    "            }\n",
    "         }\n",
    "     }\n",
    "}\n",
    "}}"
   ]
  },
  {
   "cell_type": "code",
   "execution_count": null,
   "id": "575f7738",
   "metadata": {},
   "outputs": [],
   "source": [
    "response = client.indices.create(index=index_name, body=index_body)\n",
    "print(response)"
   ]
  },
  {
   "cell_type": "code",
   "execution_count": null,
   "id": "71b1ecf7",
   "metadata": {},
   "outputs": [],
   "source": [
    "import pandas as pd\n",
    "\n",
    "for index, row in df_top.iterrows():\n",
    "    print(f\"Id: {index}, Query: {row['Termo']}, Categoria: {row['Categoria']}\")\n",
    "    original_term = row['Termo']\n",
    "    ctg = row['Categoria']\n",
    "    id = index\n",
    "\n",
    "    # Sentence transformer model takes list of documents as input and returns list of embeddings.\n",
    "    embedding = model.encode([original_term])[0]\n",
    "    my_doc = {\"id\": id, \"term\": original_term, \"ctg\": ctg, \"embedding\": embedding}\n",
    "    res = client.index(\n",
    "        index=index_name,\n",
    "        body=my_doc,\n",
    "        id = str(index),\n",
    "        refresh = True\n",
    "    )\n"
   ]
  },
  {
   "cell_type": "code",
   "execution_count": null,
   "id": "b7e57f77",
   "metadata": {},
   "outputs": [],
   "source": [
    "\"\"\" Example query text \"\"\"\n",
    "user_query = \"zflip5 samsung usado\"\n",
    "\n",
    "\"\"\" Embedding the query by using the same model \"\"\"\n",
    "query_embedding = model.encode((user_query))\n",
    "\n",
    "\n",
    "query_body = {\n",
    "    \"query\": {\"knn\": {\"embedding\": {\"vector\": query_embedding, \"k\": 5}}},\n",
    "    \"_source\": False,\n",
    "    \"fields\": [\"id\", \"term\", \"ctg\"]\n",
    "}\n",
    "\n",
    "results = client.search(\n",
    "    body=query_body,\n",
    "    index=index_name\n",
    ")\n",
    "\n",
    "for i, result in enumerate(results[\"hits\"][\"hits\"]):\n",
    "    query = result['fields']['term'][0]\n",
    "    ctg = result['fields']['ctg'][0]\n",
    "    score = result['_score']\n",
    "    print(f\"{i+1}. Query: {query}, ctg: {ctg}, score: {score}\")"
   ]
  },
  {
   "cell_type": "code",
   "execution_count": null,
   "id": "292a6f11",
   "metadata": {},
   "outputs": [],
   "source": []
  }
 ],
 "metadata": {
  "kernelspec": {
   "display_name": "Python 3 (ipykernel)",
   "language": "python",
   "name": "python3"
  },
  "language_info": {
   "codemirror_mode": {
    "name": "ipython",
    "version": 3
   },
   "file_extension": ".py",
   "mimetype": "text/x-python",
   "name": "python",
   "nbconvert_exporter": "python",
   "pygments_lexer": "ipython3",
   "version": "3.10.9"
  }
 },
 "nbformat": 4,
 "nbformat_minor": 5
}
